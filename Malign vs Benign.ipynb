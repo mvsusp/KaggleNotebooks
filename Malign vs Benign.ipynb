{
 "cells": [
  {
   "cell_type": "markdown",
   "metadata": {},
   "source": [
    "# Skin cancer - malign vs belign"
   ]
  },
  {
   "cell_type": "code",
   "execution_count": 221,
   "metadata": {},
   "outputs": [],
   "source": [
    "%matplotlib inline\n",
    "import utils; reload(utils)\n",
    "from utils import *\n",
    "import numpy as np"
   ]
  },
  {
   "cell_type": "code",
   "execution_count": 222,
   "metadata": {},
   "outputs": [],
   "source": [
    "path =  '/Users/marcio.dossantos/datasets/'\n",
    "dataset_path = path + 'ISIC/ISIC-2017_Training_Data/'\n",
    "sample_dataset_path = path + 'ISIC-sample/ISIC-2017_Training_Data/'\n",
    "\n",
    "from numpy import genfromtxt\n",
    "metadata = genfromtxt(isic_path + 'ISIC-2017_Training_Part3_GroundTruth.csv', \n",
    "                     skip_header= True,\n",
    "                     delimiter=',',\n",
    "                     dtype=[('image_id','S12'),('melanoma','i1'),('seborrheic_keratosis','i1')])"
   ]
  },
  {
   "cell_type": "markdown",
   "metadata": {},
   "source": [
    "## Creating a sample dataset"
   ]
  },
  {
   "cell_type": "code",
   "execution_count": 223,
   "metadata": {},
   "outputs": [],
   "source": [
    "np.random.shuffle(metadata)\n",
    "sample_metadata = metadata[:]"
   ]
  },
  {
   "cell_type": "code",
   "execution_count": 224,
   "metadata": {},
   "outputs": [],
   "source": [
    "import shutil\n",
    "import os\n",
    "\n",
    "def copy_images(line, set_folder):\n",
    "    directory = sample_dataset_path + set_folder\n",
    "    if not os.path.exists(directory): os.makedirs(directory)\n",
    "    if not os.path.exists(directory + 'benign/'): os.makedirs(directory + 'benign/')\n",
    "    if not os.path.exists(directory + 'malign/'): os.makedirs(directory + 'malign/')\n",
    "        \n",
    "    for image_id, melanoma, seborrheic_keratosis in line : \n",
    "        image_class = 'benign/' if melanoma == 0 else 'malign/'\n",
    "        image_filename = image_id + '.jpg'\n",
    "        pixel_filename = image_id + '_superpixels.png'\n",
    "\n",
    "        shutil.copy(dataset_path + image_filename, directory + image_class + image_filename)\n",
    "\n",
    "        # only working with the original picture for now\n",
    "        # shutil.copy(dataset_path + pixel_filename, directory + image_class + pixel_filename)    \n",
    "\n",
    "half_idx = len(sample_metadata)/2\n",
    "three_quarters_idx = 3*len(sample_metadata)/4\n",
    "\n",
    "copy_images(sample_metadata[:half_idx], 'train/')\n",
    "copy_images(sample_metadata[half_idx:three_quarters_idx], 'valid/')\n",
    "copy_images(sample_metadata[three_quarters_idx:], 'test/')"
   ]
  },
  {
   "cell_type": "code",
   "execution_count": 225,
   "metadata": {},
   "outputs": [
    {
     "data": {
      "text/plain": [
       "1000"
      ]
     },
     "execution_count": 225,
     "metadata": {},
     "output_type": "execute_result"
    }
   ],
   "source": [
    "len(sample_metadata[:half_idx])"
   ]
  },
  {
   "cell_type": "markdown",
   "metadata": {},
   "source": [
    "Let's set sample path and metada as default."
   ]
  },
  {
   "cell_type": "code",
   "execution_count": 226,
   "metadata": {
    "collapsed": true
   },
   "outputs": [],
   "source": [
    "dataset_path = sample_dataset_path\n",
    "metadata = sample_metadata"
   ]
  },
  {
   "cell_type": "code",
   "execution_count": 227,
   "metadata": {
    "collapsed": true
   },
   "outputs": [],
   "source": [
    "batch_size = 4"
   ]
  },
  {
   "cell_type": "markdown",
   "metadata": {},
   "source": [
    "## Loading data"
   ]
  },
  {
   "cell_type": "code",
   "execution_count": 228,
   "metadata": {},
   "outputs": [],
   "source": [
    "def image_generator(dirname, class_mode='categorical') :\n",
    "    gen = image.ImageDataGenerator()\n",
    "    return gen.flow_from_directory(dirname, \n",
    "                                   target_size=(224, 224), \n",
    "                                   shuffle=False, \n",
    "                                   batch_size=1,\n",
    "                                   class_mode=class_mode)"
   ]
  },
  {
   "cell_type": "code",
   "execution_count": 229,
   "metadata": {},
   "outputs": [
    {
     "name": "stdout",
     "output_type": "stream",
     "text": [
      "Found 500 images belonging to 2 classes.\n",
      "Found 1000 images belonging to 2 classes.\n"
     ]
    }
   ],
   "source": [
    "val_batches = image_generator(dataset_path + 'valid')\n",
    "train_batches = image_generator(dataset_path + 'train')"
   ]
  },
  {
   "cell_type": "code",
   "execution_count": 230,
   "metadata": {},
   "outputs": [],
   "source": [
    "def get_data(path) :\n",
    "    batches = image_generator(path, class_mode= None)\n",
    "    return np.concatenate([batches.next() for i in range(batches.samples)])"
   ]
  },
  {
   "cell_type": "markdown",
   "metadata": {},
   "source": [
    "Keras returns *classes* as a single column, so we convert to one hot encoding"
   ]
  },
  {
   "cell_type": "code",
   "execution_count": 231,
   "metadata": {},
   "outputs": [],
   "source": [
    "def onehot(x): return np.array(OneHotEncoder().fit_transform(x.reshape(-1,1)).todense())"
   ]
  },
  {
   "cell_type": "code",
   "execution_count": 232,
   "metadata": {
    "collapsed": true
   },
   "outputs": [],
   "source": [
    "val_classes = val_batches.classes\n",
    "trn_classes = train_batches.classes\n",
    "val_labels = onehot(val_classes)\n",
    "trn_labels = onehot(trn_classes)"
   ]
  },
  {
   "cell_type": "code",
   "execution_count": 233,
   "metadata": {},
   "outputs": [
    {
     "name": "stdout",
     "output_type": "stream",
     "text": [
      "Found 500 images belonging to 2 classes.\n",
      "Found 1000 images belonging to 2 classes.\n"
     ]
    },
    {
     "data": {
      "text/plain": [
       "(500, 3, 224, 224)"
      ]
     },
     "execution_count": 233,
     "metadata": {},
     "output_type": "execute_result"
    }
   ],
   "source": [
    "val_data = get_data(dataset_path + 'valid')\n",
    "trn_data = get_data(dataset_path + 'train')\n",
    "val_data.shape"
   ]
  },
  {
   "cell_type": "code",
   "execution_count": null,
   "metadata": {},
   "outputs": [],
   "source": [
    "trn_features = vgg.model.predict(trn_data, batch_size=batch_size)\n",
    "val_features = vgg.model.predict(val_data, batch_size=batch_size)"
   ]
  },
  {
   "cell_type": "code",
   "execution_count": 235,
   "metadata": {},
   "outputs": [],
   "source": [
    "gen=image.ImageDataGenerator()\n",
    "trn_batches = gen.flow(trn_data, trn_labels, batch_size=batch_size, shuffle=True)\n",
    "val_batches = gen.flow(val_data, val_labels, batch_size=batch_size, shuffle=False)"
   ]
  },
  {
   "cell_type": "markdown",
   "metadata": {},
   "source": [
    "## Creating the model"
   ]
  },
  {
   "cell_type": "code",
   "execution_count": null,
   "metadata": {
    "collapsed": true
   },
   "outputs": [],
   "source": [
    "from vgg16 import Vgg16\n",
    "vgg = Vgg16()\n",
    "\n",
    "vgg.model.pop()\n",
    "for layer in vgg.model.layers: layer.trainable=False\n",
    "\n",
    "vgg.model.add(Dense(2, activation='softmax'))\n",
    "opt = RMSprop(lr=0.1)\n",
    "vgg.model.compile(optimizer=opt, loss='categorical_crossentropy', metrics=['accuracy'])"
   ]
  },
  {
   "cell_type": "code",
   "execution_count": null,
   "metadata": {},
   "outputs": [
    {
     "name": "stderr",
     "output_type": "stream",
     "text": [
      "/Users/marcio.dossantos/anaconda2/lib/python2.7/site-packages/ipykernel_launcher.py:2: UserWarning: Update your `fit_generator` call to the Keras 2 API: `fit_generator(<keras.pre..., validation_data=<keras.pre..., steps_per_epoch=250, epochs=1, validation_steps=500)`\n",
      "  \n"
     ]
    },
    {
     "name": "stdout",
     "output_type": "stream",
     "text": [
      "Epoch 1/1\n",
      "236/250 [===========================>..] - ETA: 19s - loss: 3.0735 - acc: 0.8093"
     ]
    }
   ],
   "source": [
    "vgg.model.fit_generator(trn_batches, samples_per_epoch=trn_batches.n, nb_epoch=1, \n",
    "                        validation_data=val_batches, nb_val_samples=val_batches.n)"
   ]
  },
  {
   "cell_type": "markdown",
   "metadata": {},
   "source": [
    "## Plotting results"
   ]
  },
  {
   "cell_type": "code",
   "execution_count": 216,
   "metadata": {},
   "outputs": [
    {
     "name": "stdout",
     "output_type": "stream",
     "text": [
      "50/50 [==============================] - 19s    \n"
     ]
    }
   ],
   "source": [
    "from utils import plot_confusion_matrix\n",
    "\n",
    "preds = vgg.model.predict_classes(val_data, batch_size=batch_size)"
   ]
  },
  {
   "cell_type": "code",
   "execution_count": 217,
   "metadata": {},
   "outputs": [
    {
     "name": "stdout",
     "output_type": "stream",
     "text": [
      "Found 50 images belonging to 2 classes.\n",
      "[[ 0 43]\n",
      " [ 0  7]]\n"
     ]
    },
    {
     "data": {
      "image/png": "[encoded data removed]",
      "text/plain": [
       "<matplotlib.figure.Figure at 0x123da8390>"
      ]
     },
     "metadata": {},
     "output_type": "display_data"
    }
   ],
   "source": [
    "validation_batches = image_generator(dataset_path+'valid/')\n",
    "\n",
    "cm = confusion_matrix(val_classes, preds)\n",
    "plot_confusion_matrix(cm, validation_batches.class_indices)"
   ]
  },
  {
   "cell_type": "code",
   "execution_count": null,
   "metadata": {
    "collapsed": true
   },
   "outputs": [],
   "source": []
  }
 ],
 "metadata": {
  "kernelspec": {
   "display_name": "Python 2",
   "language": "python",
   "name": "python2"
  },
  "language_info": {
   "codemirror_mode": {
    "name": "ipython",
    "version": 2
   },
   "file_extension": ".py",
   "mimetype": "text/x-python",
   "name": "python",
   "nbconvert_exporter": "python",
   "pygments_lexer": "ipython2",
   "version": "2.7.13"
  }
 },
 "nbformat": 4,
 "nbformat_minor": 2
}
