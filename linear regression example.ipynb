{
 "cells": [
  {
   "cell_type": "code",
   "execution_count": 21,
   "metadata": {
    "collapsed": true
   },
   "outputs": [],
   "source": [
    "%matplotlib inline\n",
    "from IPython.core.interactiveshell import InteractiveShell\n",
    "InteractiveShell.ast_node_interactivity = \"all\""
   ]
  },
  {
   "cell_type": "code",
   "execution_count": 201,
   "metadata": {
    "collapsed": true
   },
   "outputs": [],
   "source": [
    "# Generate dummy data\n",
    "import numpy as np\n",
    "data = np.random.random(1000)\n",
    "labels = data * 3 + 1\n",
    "\n",
    "randomize = np.arange(len(data))\n",
    "np.random.shuffle(randomize)\n",
    "split = int(.8 * len(data))\n",
    "\n",
    "train_data = data[randomize][:split]\n",
    "train_labels = labels[randomize][:split]\n",
    "val_data = data[randomize][split:]\n",
    "val_labels = labels[randomize][split:]\n",
    "\n",
    "test_data = np.random.random(20)"
   ]
  },
  {
   "cell_type": "code",
   "execution_count": 205,
   "metadata": {},
   "outputs": [
    {
     "name": "stdout",
     "output_type": "stream",
     "text": [
      "Train on 800 samples, validate on 200 samples\n",
      "Epoch 1/100\n",
      "800/800 [==============================] - 0s - loss: 2.9707 - val_loss: 1.5981\n",
      "Epoch 2/100\n",
      "800/800 [==============================] - 0s - loss: 0.9621 - val_loss: 0.5787\n",
      "Epoch 3/100\n",
      "800/800 [==============================] - 0s - loss: 0.3824 - val_loss: 0.2749\n",
      "Epoch 4/100\n",
      "800/800 [==============================] - 0s - loss: 0.2101 - val_loss: 0.1795\n",
      "Epoch 5/100\n",
      "800/800 [==============================] - 0s - loss: 0.1551 - val_loss: 0.1446\n",
      "Epoch 6/100\n",
      "800/800 [==============================] - 0s - loss: 0.1330 - val_loss: 0.1276\n",
      "Epoch 7/100\n",
      "800/800 [==============================] - 0s - loss: 0.1209 - val_loss: 0.1170\n",
      "Epoch 8/100\n",
      "800/800 [==============================] - 0s - loss: 0.1122 - val_loss: 0.1086\n",
      "Epoch 9/100\n",
      "800/800 [==============================] - 0s - loss: 0.1046 - val_loss: 0.1012\n",
      "Epoch 10/100\n",
      "800/800 [==============================] - 0s - loss: 0.0977 - val_loss: 0.0945\n",
      "Epoch 11/100\n",
      "800/800 [==============================] - 0s - loss: 0.0914 - val_loss: 0.0884\n",
      "Epoch 12/100\n",
      "800/800 [==============================] - 0s - loss: 0.0855 - val_loss: 0.0826\n",
      "Epoch 13/100\n",
      "800/800 [==============================] - 0s - loss: 0.0800 - val_loss: 0.0772\n",
      "Epoch 14/100\n",
      "800/800 [==============================] - 0s - loss: 0.0748 - val_loss: 0.0723\n",
      "Epoch 15/100\n",
      "800/800 [==============================] - 0s - loss: 0.0699 - val_loss: 0.0676\n",
      "Epoch 16/100\n",
      "800/800 [==============================] - 0s - loss: 0.0654 - val_loss: 0.0632\n",
      "Epoch 17/100\n",
      "800/800 [==============================] - 0s - loss: 0.0612 - val_loss: 0.0591\n",
      "Epoch 18/100\n",
      "800/800 [==============================] - 0s - loss: 0.0572 - val_loss: 0.0553\n",
      "Epoch 19/100\n",
      "800/800 [==============================] - 0s - loss: 0.0535 - val_loss: 0.0517\n",
      "Epoch 20/100\n",
      "800/800 [==============================] - 0s - loss: 0.0501 - val_loss: 0.0484\n",
      "Epoch 21/100\n",
      "800/800 [==============================] - 0s - loss: 0.0468 - val_loss: 0.0452\n",
      "Epoch 22/100\n",
      "800/800 [==============================] - 0s - loss: 0.0438 - val_loss: 0.0423\n",
      "Epoch 23/100\n",
      "800/800 [==============================] - 0s - loss: 0.0410 - val_loss: 0.0396\n",
      "Epoch 24/100\n",
      "800/800 [==============================] - 0s - loss: 0.0383 - val_loss: 0.0370\n",
      "Epoch 25/100\n",
      "800/800 [==============================] - 0s - loss: 0.0358 - val_loss: 0.0346\n",
      "Epoch 26/100\n",
      "800/800 [==============================] - 0s - loss: 0.0335 - val_loss: 0.0324\n",
      "Epoch 27/100\n",
      "800/800 [==============================] - 0s - loss: 0.0314 - val_loss: 0.0303\n",
      "Epoch 28/100\n",
      "800/800 [==============================] - 0s - loss: 0.0293 - val_loss: 0.0283\n",
      "Epoch 29/100\n",
      "800/800 [==============================] - 0s - loss: 0.0274 - val_loss: 0.0265\n",
      "Epoch 30/100\n",
      "800/800 [==============================] - 0s - loss: 0.0256 - val_loss: 0.0248\n",
      "Epoch 31/100\n",
      "800/800 [==============================] - 0s - loss: 0.0240 - val_loss: 0.0232\n",
      "Epoch 32/100\n",
      "800/800 [==============================] - 0s - loss: 0.0224 - val_loss: 0.0217\n",
      "Epoch 33/100\n",
      "800/800 [==============================] - 0s - loss: 0.0210 - val_loss: 0.0203\n",
      "Epoch 34/100\n",
      "800/800 [==============================] - 0s - loss: 0.0196 - val_loss: 0.0190\n",
      "Epoch 35/100\n",
      "800/800 [==============================] - 0s - loss: 0.0184 - val_loss: 0.0177\n",
      "Epoch 36/100\n",
      "800/800 [==============================] - 0s - loss: 0.0172 - val_loss: 0.0166\n",
      "Epoch 37/100\n",
      "800/800 [==============================] - 0s - loss: 0.0161 - val_loss: 0.0155\n",
      "Epoch 38/100\n",
      "800/800 [==============================] - 0s - loss: 0.0150 - val_loss: 0.0145\n",
      "Epoch 39/100\n",
      "800/800 [==============================] - 0s - loss: 0.0140 - val_loss: 0.0136\n",
      "Epoch 40/100\n",
      "800/800 [==============================] - 0s - loss: 0.0131 - val_loss: 0.0127\n",
      "Epoch 41/100\n",
      "800/800 [==============================] - 0s - loss: 0.0123 - val_loss: 0.0119\n",
      "Epoch 42/100\n",
      "800/800 [==============================] - 0s - loss: 0.0115 - val_loss: 0.0111\n",
      "Epoch 43/100\n",
      "800/800 [==============================] - 0s - loss: 0.0107 - val_loss: 0.0104\n",
      "Epoch 44/100\n",
      "800/800 [==============================] - 0s - loss: 0.0101 - val_loss: 0.0097\n",
      "Epoch 45/100\n",
      "800/800 [==============================] - ETA: 0s - loss: 0.010 - 0s - loss: 0.0094 - val_loss: 0.0091\n",
      "Epoch 46/100\n",
      "800/800 [==============================] - 0s - loss: 0.0088 - val_loss: 0.0085\n",
      "Epoch 47/100\n",
      "800/800 [==============================] - 0s - loss: 0.0082 - val_loss: 0.0079\n",
      "Epoch 48/100\n",
      "800/800 [==============================] - 0s - loss: 0.0077 - val_loss: 0.0074\n",
      "Epoch 49/100\n",
      "800/800 [==============================] - 0s - loss: 0.0072 - val_loss: 0.0070\n",
      "Epoch 50/100\n",
      "800/800 [==============================] - 0s - loss: 0.0067 - val_loss: 0.0065\n",
      "Epoch 51/100\n",
      "800/800 [==============================] - 0s - loss: 0.0063 - val_loss: 0.0061\n",
      "Epoch 52/100\n",
      "800/800 [==============================] - 0s - loss: 0.0059 - val_loss: 0.0057\n",
      "Epoch 53/100\n",
      "800/800 [==============================] - 0s - loss: 0.0055 - val_loss: 0.0053\n",
      "Epoch 54/100\n",
      "800/800 [==============================] - 0s - loss: 0.0052 - val_loss: 0.0050\n",
      "Epoch 55/100\n",
      "800/800 [==============================] - 0s - loss: 0.0048 - val_loss: 0.0047\n",
      "Epoch 56/100\n",
      "800/800 [==============================] - 0s - loss: 0.0045 - val_loss: 0.0044\n",
      "Epoch 57/100\n",
      "800/800 [==============================] - 0s - loss: 0.0042 - val_loss: 0.0041\n",
      "Epoch 58/100\n",
      "800/800 [==============================] - 0s - loss: 0.0039 - val_loss: 0.0038\n",
      "Epoch 59/100\n",
      "800/800 [==============================] - 0s - loss: 0.0037 - val_loss: 0.0036\n",
      "Epoch 60/100\n",
      "800/800 [==============================] - 0s - loss: 0.0034 - val_loss: 0.0033\n",
      "Epoch 61/100\n",
      "800/800 [==============================] - 0s - loss: 0.0032 - val_loss: 0.0031\n",
      "Epoch 62/100\n",
      "800/800 [==============================] - 0s - loss: 0.0030 - val_loss: 0.0029\n",
      "Epoch 63/100\n",
      "800/800 [==============================] - 0s - loss: 0.0028 - val_loss: 0.0027\n",
      "Epoch 64/100\n",
      "800/800 [==============================] - 0s - loss: 0.0026 - val_loss: 0.0025\n",
      "Epoch 65/100\n",
      "800/800 [==============================] - 0s - loss: 0.0025 - val_loss: 0.0024\n",
      "Epoch 66/100\n",
      "800/800 [==============================] - 0s - loss: 0.0023 - val_loss: 0.0022\n",
      "Epoch 67/100\n",
      "800/800 [==============================] - 0s - loss: 0.0022 - val_loss: 0.0021\n",
      "Epoch 68/100\n",
      "800/800 [==============================] - 0s - loss: 0.0020 - val_loss: 0.0020\n",
      "Epoch 69/100\n",
      "800/800 [==============================] - 0s - loss: 0.0019 - val_loss: 0.0018\n",
      "Epoch 70/100\n",
      "800/800 [==============================] - 0s - loss: 0.0018 - val_loss: 0.0017\n",
      "Epoch 71/100\n",
      "800/800 [==============================] - 0s - loss: 0.0017 - val_loss: 0.0016\n",
      "Epoch 72/100\n",
      "800/800 [==============================] - 0s - loss: 0.0015 - val_loss: 0.0015\n",
      "Epoch 73/100\n",
      "800/800 [==============================] - 0s - loss: 0.0014 - val_loss: 0.0014\n",
      "Epoch 74/100\n",
      "800/800 [==============================] - 0s - loss: 0.0014 - val_loss: 0.0013\n",
      "Epoch 75/100\n",
      "800/800 [==============================] - 0s - loss: 0.0013 - val_loss: 0.0012\n",
      "Epoch 76/100\n",
      "800/800 [==============================] - 0s - loss: 0.0012 - val_loss: 0.0011\n",
      "Epoch 77/100\n",
      "800/800 [==============================] - 0s - loss: 0.0011 - val_loss: 0.0011\n",
      "Epoch 78/100\n",
      "800/800 [==============================] - 0s - loss: 0.0010 - val_loss: 9.9922e-04\n",
      "Epoch 79/100\n",
      "800/800 [==============================] - 0s - loss: 9.6735e-04 - val_loss: 9.3436e-04\n",
      "Epoch 80/100\n",
      "800/800 [==============================] - 0s - loss: 9.0482e-04 - val_loss: 8.7387e-04\n",
      "Epoch 81/100\n",
      "800/800 [==============================] - 0s - loss: 8.4612e-04 - val_loss: 8.1758e-04\n",
      "Epoch 82/100\n",
      "800/800 [==============================] - 0s - loss: 7.9167e-04 - val_loss: 7.6460e-04\n",
      "Epoch 83/100\n",
      "800/800 [==============================] - 0s - loss: 7.4051e-04 - val_loss: 7.1539e-04\n",
      "Epoch 84/100\n",
      "800/800 [==============================] - 0s - loss: 6.9227e-04 - val_loss: 6.6935e-04\n",
      "Epoch 85/100\n",
      "800/800 [==============================] - 0s - loss: 6.4759e-04 - val_loss: 6.2608e-04\n",
      "Epoch 86/100\n",
      "800/800 [==============================] - 0s - loss: 6.0566e-04 - val_loss: 5.8514e-04\n",
      "Epoch 87/100\n"
     ]
    },
    {
     "name": "stdout",
     "output_type": "stream",
     "text": [
      "800/800 [==============================] - 0s - loss: 5.6673e-04 - val_loss: 5.4697e-04\n",
      "Epoch 88/100\n",
      "800/800 [==============================] - 0s - loss: 5.2994e-04 - val_loss: 5.1170e-04\n",
      "Epoch 89/100\n",
      "800/800 [==============================] - 0s - loss: 4.9557e-04 - val_loss: 4.7847e-04\n",
      "Epoch 90/100\n",
      "800/800 [==============================] - 0s - loss: 4.6357e-04 - val_loss: 4.4757e-04\n",
      "Epoch 91/100\n",
      "800/800 [==============================] - 0s - loss: 4.3372e-04 - val_loss: 4.1877e-04\n",
      "Epoch 92/100\n",
      "800/800 [==============================] - 0s - loss: 4.0555e-04 - val_loss: 3.9152e-04\n",
      "Epoch 93/100\n",
      "800/800 [==============================] - 0s - loss: 3.7935e-04 - val_loss: 3.6627e-04\n",
      "Epoch 94/100\n",
      "800/800 [==============================] - 0s - loss: 3.5469e-04 - val_loss: 3.4251e-04\n",
      "Epoch 95/100\n",
      "800/800 [==============================] - 0s - loss: 3.3170e-04 - val_loss: 3.2037e-04\n",
      "Epoch 96/100\n",
      "800/800 [==============================] - 0s - loss: 3.1029e-04 - val_loss: 2.9980e-04\n",
      "Epoch 97/100\n",
      "800/800 [==============================] - 0s - loss: 2.9027e-04 - val_loss: 2.8042e-04\n",
      "Epoch 98/100\n",
      "800/800 [==============================] - 0s - loss: 2.7153e-04 - val_loss: 2.6222e-04\n",
      "Epoch 99/100\n",
      "800/800 [==============================] - 0s - loss: 2.5390e-04 - val_loss: 2.4530e-04\n",
      "Epoch 100/100\n",
      "800/800 [==============================] - 0s - loss: 2.3747e-04 - val_loss: 2.2936e-04\n"
     ]
    }
   ],
   "source": [
    "from keras.layers import Dense, Activation\n",
    "from keras.models import Sequential\n",
    "\n",
    "model = Sequential()\n",
    "model.add(Dense(1, input_dim=1))\n",
    "model.compile(optimizer='sgd',loss='mean_squared_error')\n",
    "\n",
    "# Train the model, iterating on the data in batches of 32 samples\n",
    "hist = model.fit(train_data, train_labels, \n",
    "                 validation_data=(val_data, val_labels),  epochs=100, batch_size=32)\n"
   ]
  },
  {
   "cell_type": "code",
   "execution_count": 206,
   "metadata": {
    "collapsed": true
   },
   "outputs": [],
   "source": [
    "prediction = model.predict(test_data)"
   ]
  },
  {
   "cell_type": "code",
   "execution_count": 207,
   "metadata": {},
   "outputs": [
    {
     "data": {
      "text/plain": [
       "[<matplotlib.lines.Line2D at 0x1204c61d0>]"
      ]
     },
     "execution_count": 207,
     "metadata": {},
     "output_type": "execute_result"
    },
    {
     "data": {
      "text/plain": [
       "[<matplotlib.lines.Line2D at 0x120027590>]"
      ]
     },
     "execution_count": 207,
     "metadata": {},
     "output_type": "execute_result"
    },
    {
     "data": {
      "image/png": "[encoded data removed]",
      "text/plain": [
       "<matplotlib.figure.Figure at 0x1200274d0>"
      ]
     },
     "metadata": {},
     "output_type": "display_data"
    }
   ],
   "source": [
    "import matplotlib.pyplot as plt\n",
    "plt.plot(data, labels)\n",
    "plt.plot(test_data, prediction)\n",
    "plt.show()"
   ]
  },
  {
   "cell_type": "code",
   "execution_count": null,
   "metadata": {
    "collapsed": true
   },
   "outputs": [],
   "source": []
  }
 ],
 "metadata": {
  "kernelspec": {
   "display_name": "Python 2",
   "language": "python",
   "name": "python2"
  },
  "language_info": {
   "codemirror_mode": {
    "name": "ipython",
    "version": 2
   },
   "file_extension": ".py",
   "mimetype": "text/x-python",
   "name": "python",
   "nbconvert_exporter": "python",
   "pygments_lexer": "ipython2",
   "version": "2.7.13"
  }
 },
 "nbformat": 4,
 "nbformat_minor": 2
}
